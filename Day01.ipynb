{
 "cells": [
  {
   "cell_type": "code",
   "execution_count": 1,
   "id": "7859dce9-8ab5-49c5-96a1-ca33c9b76a07",
   "metadata": {},
   "outputs": [
    {
     "name": "stdout",
     "output_type": "stream",
     "text": [
      "Hello World!\n"
     ]
    }
   ],
   "source": [
    "print('Hello World!')"
   ]
  },
  {
   "cell_type": "code",
   "execution_count": 2,
   "id": "4d4a8012-0219-4e19-aaa5-b649e4545bb3",
   "metadata": {},
   "outputs": [
    {
     "name": "stdout",
     "output_type": "stream",
     "text": [
      "5\n"
     ]
    }
   ],
   "source": [
    "x=5\n",
    "print(x)"
   ]
  },
  {
   "cell_type": "code",
   "execution_count": 3,
   "id": "b0d3039d-96d8-4f9c-80a8-509c5416f4c9",
   "metadata": {},
   "outputs": [
    {
     "name": "stdout",
     "output_type": "stream",
     "text": [
      "Hi\n"
     ]
    }
   ],
   "source": [
    "x='Hi'\n",
    "print(x)"
   ]
  },
  {
   "cell_type": "code",
   "execution_count": 4,
   "id": "d47fe222-d0eb-4a12-a7c5-cea1b15874d5",
   "metadata": {},
   "outputs": [
    {
     "name": "stdout",
     "output_type": "stream",
     "text": [
      "<class 'str'>\n"
     ]
    }
   ],
   "source": [
    "print(type(x))"
   ]
  },
  {
   "cell_type": "code",
   "execution_count": 7,
   "id": "f0d9fa50-2edc-4576-a2f7-f175abf2060f",
   "metadata": {},
   "outputs": [],
   "source": [
    "x=int(5)\n",
    "x=str('Hello')"
   ]
  },
  {
   "cell_type": "code",
   "execution_count": 8,
   "id": "cb0e0dfb-fc87-433c-a1c2-3fa9df259ad2",
   "metadata": {},
   "outputs": [
    {
     "name": "stdout",
     "output_type": "stream",
     "text": [
      "<class 'float'>\n"
     ]
    }
   ],
   "source": [
    "x=5.00\n",
    "print(type(x))"
   ]
  },
  {
   "cell_type": "code",
   "execution_count": 9,
   "id": "343fcec6-4cb8-4cdf-b62b-cfd211bc9c6b",
   "metadata": {},
   "outputs": [
    {
     "name": "stdout",
     "output_type": "stream",
     "text": [
      "<class 'float'>\n"
     ]
    }
   ],
   "source": [
    "y=8.0\n",
    "print(type(y))"
   ]
  },
  {
   "cell_type": "code",
   "execution_count": 10,
   "id": "60af335f-c82a-48b7-95b5-8a0c306a7bc9",
   "metadata": {},
   "outputs": [
    {
     "name": "stdout",
     "output_type": "stream",
     "text": [
      "hello\n",
      "hello\n"
     ]
    }
   ],
   "source": [
    "u='hello'\n",
    "v=\"hello\"\n",
    "print(u)\n",
    "print(v)"
   ]
  },
  {
   "cell_type": "code",
   "execution_count": 11,
   "id": "562a2a2d-2f13-4a0c-adee-2e228f56a4a4",
   "metadata": {},
   "outputs": [
    {
     "name": "stdout",
     "output_type": "stream",
     "text": [
      "Salary\n",
      "5\n"
     ]
    }
   ],
   "source": [
    "a=5\n",
    "A='Salary'\n",
    "print(A)\n",
    "print(a)"
   ]
  },
  {
   "cell_type": "code",
   "execution_count": 13,
   "id": "40a4340f-f61f-48c3-970f-9e7dfe078b10",
   "metadata": {},
   "outputs": [
    {
     "name": "stdin",
     "output_type": "stream",
     "text": [
      "Enter the first number:  8\n",
      "Enter the second number:  9\n"
     ]
    },
    {
     "name": "stdout",
     "output_type": "stream",
     "text": [
      "Addition: 17\n",
      "Subtraction: -1\n",
      "Multiplication: 72\n",
      "Division: 0.8888888888888888\n"
     ]
    }
   ],
   "source": [
    "def add(num1, num2):\n",
    "    Addition=num1+num2\n",
    "    return Addition\n",
    "\n",
    "def sub(num1, num2):\n",
    "    Subtraction=num1-num2\n",
    "    return Subtraction\n",
    "\n",
    "def mul(num1, num2):\n",
    "    Multiplication=num1*num2\n",
    "    return Multiplication\n",
    "\n",
    "def div(num1,num2):\n",
    "    Division=num1/num2\n",
    "    return Division\n",
    "\n",
    "x=int(input('Enter the first number: '))\n",
    "y=int(input('Enter the second number: '))\n",
    "\n",
    "print('Addition:',add(x,y))\n",
    "print('Subtraction:', sub(x,y))\n",
    "print('Multiplication:',mul(x,y))\n",
    "print('Division:',div(x,y))"
   ]
  },
  {
   "cell_type": "code",
   "execution_count": 14,
   "id": "b32f715a-7f66-4749-b9b3-bbcae3da9cc7",
   "metadata": {},
   "outputs": [],
   "source": [
    "mycalss=5\n",
    "_myclass=5\n",
    "my_class=5"
   ]
  },
  {
   "cell_type": "code",
   "execution_count": 16,
   "id": "c21315be-3642-4f91-821e-cf74950e0d38",
   "metadata": {},
   "outputs": [
    {
     "name": "stdout",
     "output_type": "stream",
     "text": [
      "8\n",
      "6\n",
      "10\n",
      "24\n"
     ]
    }
   ],
   "source": [
    "age=8\n",
    "Age=6\n",
    "AGE=10\n",
    "print(age)\n",
    "print(Age)\n",
    "print(AGE)\n",
    "print(age+Age+AGE)\n",
    "#Case sensitive"
   ]
  },
  {
   "cell_type": "code",
   "execution_count": 17,
   "id": "4313302e-d303-41b8-a375-be56e9426806",
   "metadata": {},
   "outputs": [
    {
     "ename": "TypeError",
     "evalue": "can only concatenate str (not \"int\") to str",
     "output_type": "error",
     "traceback": [
      "\u001b[1;31m---------------------------------------------------------------------------\u001b[0m",
      "\u001b[1;31mTypeError\u001b[0m                                 Traceback (most recent call last)",
      "Cell \u001b[1;32mIn[17], line 3\u001b[0m\n\u001b[0;32m      1\u001b[0m \u001b[38;5;66;03m#This is my first python program\u001b[39;00m\n\u001b[0;32m      2\u001b[0m x\u001b[38;5;241m=\u001b[39m\u001b[38;5;124m'\u001b[39m\u001b[38;5;124mHello\u001b[39m\u001b[38;5;124m'\u001b[39m\n\u001b[1;32m----> 3\u001b[0m \u001b[38;5;28mprint\u001b[39m(x\u001b[38;5;241m+\u001b[39mage)\n",
      "\u001b[1;31mTypeError\u001b[0m: can only concatenate str (not \"int\") to str"
     ]
    }
   ],
   "source": [
    "#This is my first python program\n",
    "x='Hello'\n",
    "print(x+age)"
   ]
  },
  {
   "cell_type": "code",
   "execution_count": 18,
   "id": "02e6db1f-0998-461e-95c0-9044561fc084",
   "metadata": {},
   "outputs": [
    {
     "name": "stdout",
     "output_type": "stream",
     "text": [
      "Good\n"
     ]
    }
   ],
   "source": [
    "x='Good' #global variable\n",
    "\n",
    "def myfun():\n",
    "    print(x)\n",
    "myfun()"
   ]
  },
  {
   "cell_type": "code",
   "execution_count": 19,
   "id": "a515d96e-44e4-4d87-a476-8e79bba5f7ca",
   "metadata": {},
   "outputs": [
    {
     "name": "stdout",
     "output_type": "stream",
     "text": [
      "Hi\n"
     ]
    }
   ],
   "source": [
    "x='Good'\n",
    "\n",
    "def myfun():\n",
    "    y='Hi'\n",
    "    print(y)\n",
    "myfun()"
   ]
  },
  {
   "cell_type": "code",
   "execution_count": 20,
   "id": "3a2705c9-b125-4c37-acc6-3f788f14e0df",
   "metadata": {},
   "outputs": [
    {
     "name": "stdout",
     "output_type": "stream",
     "text": [
      "a greater than b\n"
     ]
    }
   ],
   "source": [
    "a=44\n",
    "b=7\n",
    "\n",
    "if b>a:\n",
    "    print('b greater than a')\n",
    "else:\n",
    "    print('a greater than b')"
   ]
  },
  {
   "cell_type": "code",
   "execution_count": 21,
   "id": "619e808b-91fa-4094-8eb9-62ec06cbdb63",
   "metadata": {},
   "outputs": [
    {
     "name": "stdout",
     "output_type": "stream",
     "text": [
      "b equal a\n"
     ]
    }
   ],
   "source": [
    "a=7\n",
    "b=7\n",
    "\n",
    "if b>a:\n",
    "    print('b grater than a')\n",
    "elif b==a:\n",
    "    print('b equal a')\n",
    "else:\n",
    "    print('a greater than b')"
   ]
  },
  {
   "cell_type": "code",
   "execution_count": 22,
   "id": "34ee5bd2-1cb6-4756-8976-90913197d74b",
   "metadata": {},
   "outputs": [
    {
     "name": "stdout",
     "output_type": "stream",
     "text": [
      "1\n",
      "2\n",
      "3\n",
      "4\n",
      "5\n",
      "6\n",
      "7\n",
      "8\n",
      "9\n"
     ]
    }
   ],
   "source": [
    "i=1\n",
    "while(i<10):\n",
    "    print(i)\n",
    "    i+=1"
   ]
  },
  {
   "cell_type": "code",
   "execution_count": 25,
   "id": "421e1c5f-1fe7-4547-8d91-93d910d63857",
   "metadata": {},
   "outputs": [
    {
     "name": "stdout",
     "output_type": "stream",
     "text": [
      "apple\n",
      "orange\n",
      "mango\n"
     ]
    }
   ],
   "source": [
    "fruits=['apple','orange','mango']\n",
    "for x in fruits:\n",
    "    print(x)"
   ]
  },
  {
   "cell_type": "code",
   "execution_count": 27,
   "id": "41b7d0f8-d80c-40ed-96a9-e1ec454391d5",
   "metadata": {},
   "outputs": [
    {
     "name": "stdout",
     "output_type": "stream",
     "text": [
      "b\n",
      "a\n",
      "n\n",
      "a\n",
      "n\n",
      "a\n"
     ]
    }
   ],
   "source": [
    "for x in 'banana':\n",
    "    print(x)"
   ]
  },
  {
   "cell_type": "code",
   "execution_count": 28,
   "id": "8c500ea2-77db-4f19-84c9-79444c431e7e",
   "metadata": {},
   "outputs": [
    {
     "name": "stdout",
     "output_type": "stream",
     "text": [
      "apple\n",
      "orange\n"
     ]
    }
   ],
   "source": [
    "for x in fruits:\n",
    "    print(x)\n",
    "    if(x=='orange'):\n",
    "        break"
   ]
  },
  {
   "cell_type": "code",
   "execution_count": 31,
   "id": "4c38fc8f-fc1f-44e1-9477-495ced224f60",
   "metadata": {},
   "outputs": [
    {
     "name": "stdout",
     "output_type": "stream",
     "text": [
      "apple\n",
      "mango\n"
     ]
    }
   ],
   "source": [
    "for x in fruits:\n",
    "    #print(x)\n",
    "    if(x=='orange'):\n",
    "        continue\n",
    "    print(x)"
   ]
  },
  {
   "cell_type": "code",
   "execution_count": 32,
   "id": "02500361-707c-4811-b829-456b1c807ed7",
   "metadata": {},
   "outputs": [
    {
     "name": "stdout",
     "output_type": "stream",
     "text": [
      "1\n",
      "2\n",
      "3\n",
      "4\n",
      "5\n",
      "6\n"
     ]
    }
   ],
   "source": [
    "for x in range(1,7):\n",
    "    print(x)"
   ]
  },
  {
   "cell_type": "code",
   "execution_count": 33,
   "id": "45aea630-8c43-46cb-aa22-610a51b0bd8a",
   "metadata": {},
   "outputs": [
    {
     "name": "stdout",
     "output_type": "stream",
     "text": [
      "cat bob\n",
      "cat alice\n",
      "cat oscar\n",
      "dog bob\n",
      "dog alice\n",
      "dog oscar\n",
      "lion bob\n",
      "lion alice\n",
      "lion oscar\n"
     ]
    }
   ],
   "source": [
    "animal=['cat','dog','lion']\n",
    "name=['bob','alice','oscar']\n",
    "\n",
    "for x in animal:\n",
    "    for y in name:\n",
    "        print(x,y)"
   ]
  },
  {
   "cell_type": "code",
   "execution_count": 34,
   "id": "ef5e56ba-5e6e-49f2-97e0-984e131a659d",
   "metadata": {},
   "outputs": [
    {
     "name": "stdout",
     "output_type": "stream",
     "text": [
      "Hi I am  Nisha\n"
     ]
    }
   ],
   "source": [
    "def myfunc(fname):\n",
    "    print(\"Hi I am \", fname)\n",
    "myfunc('Nisha')"
   ]
  },
  {
   "cell_type": "code",
   "execution_count": null,
   "id": "4e010016-650a-4ed3-a093-3e790ab68d37",
   "metadata": {},
   "outputs": [],
   "source": []
  },
  {
   "cell_type": "code",
   "execution_count": 37,
   "id": "060a5e9c-859d-4c4a-9a63-df0b94d6d530",
   "metadata": {},
   "outputs": [
    {
     "name": "stdout",
     "output_type": "stream",
     "text": [
      "Data: [5, 10, 10, 20, 25, 30, 30, 40]\n",
      "Mean: 21.25\n",
      "Mode: 10\n",
      "Median: 22.5\n",
      "Standard Deviation: 12.174328963613794\n"
     ]
    }
   ],
   "source": [
    "from statistics import mean, median, mode, stdev\n",
    "\n",
    "data =[5,10,10,20,25,30,30,40]\n",
    "\n",
    "print('Data:',data)\n",
    "print('Mean:',mean(data))\n",
    "print('Mode:',mode(data))\n",
    "print('Median:',median(data))\n",
    "print('Standard Deviation:',stdev(data))"
   ]
  },
  {
   "cell_type": "code",
   "execution_count": null,
   "id": "02fc5a60-caf6-49fc-b608-dded9f10b6e3",
   "metadata": {},
   "outputs": [],
   "source": []
  }
 ],
 "metadata": {
  "kernelspec": {
   "display_name": "Python 3 (ipykernel)",
   "language": "python",
   "name": "python3"
  },
  "language_info": {
   "codemirror_mode": {
    "name": "ipython",
    "version": 3
   },
   "file_extension": ".py",
   "mimetype": "text/x-python",
   "name": "python",
   "nbconvert_exporter": "python",
   "pygments_lexer": "ipython3",
   "version": "3.13.5"
  }
 },
 "nbformat": 4,
 "nbformat_minor": 5
}
